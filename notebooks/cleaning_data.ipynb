{
 "cells": [
  {
   "cell_type": "code",
   "execution_count": 2,
   "metadata": {},
   "outputs": [
    {
     "name": "stdout",
     "output_type": "stream",
     "text": [
      "/home/dataeng/Student_Performance_Prediction/SPP_env/bin/python\n"
     ]
    }
   ],
   "source": [
    "import sys\n",
    "print(sys.executable)"
   ]
  },
  {
   "cell_type": "code",
   "execution_count": 18,
   "metadata": {},
   "outputs": [
    {
     "data": {
      "text/html": [
       "<div>\n",
       "<style scoped>\n",
       "    .dataframe tbody tr th:only-of-type {\n",
       "        vertical-align: middle;\n",
       "    }\n",
       "\n",
       "    .dataframe tbody tr th {\n",
       "        vertical-align: top;\n",
       "    }\n",
       "\n",
       "    .dataframe thead th {\n",
       "        text-align: right;\n",
       "    }\n",
       "</style>\n",
       "<table border=\"1\" class=\"dataframe\">\n",
       "  <thead>\n",
       "    <tr style=\"text-align: right;\">\n",
       "      <th></th>\n",
       "      <th>Student ID</th>\n",
       "      <th>Study Hours per Week</th>\n",
       "      <th>Attendance Rate</th>\n",
       "      <th>Previous Grades</th>\n",
       "      <th>Participation in Extracurricular Activities</th>\n",
       "      <th>Parent Education Level</th>\n",
       "      <th>Passed</th>\n",
       "    </tr>\n",
       "  </thead>\n",
       "  <tbody>\n",
       "    <tr>\n",
       "      <th>0</th>\n",
       "      <td>S00001</td>\n",
       "      <td>12.5</td>\n",
       "      <td>NaN</td>\n",
       "      <td>75.0</td>\n",
       "      <td>Yes</td>\n",
       "      <td>Master</td>\n",
       "      <td>Yes</td>\n",
       "    </tr>\n",
       "    <tr>\n",
       "      <th>1</th>\n",
       "      <td>S00002</td>\n",
       "      <td>9.3</td>\n",
       "      <td>95.3</td>\n",
       "      <td>60.6</td>\n",
       "      <td>No</td>\n",
       "      <td>High School</td>\n",
       "      <td>No</td>\n",
       "    </tr>\n",
       "    <tr>\n",
       "      <th>2</th>\n",
       "      <td>S00003</td>\n",
       "      <td>13.2</td>\n",
       "      <td>NaN</td>\n",
       "      <td>64.0</td>\n",
       "      <td>No</td>\n",
       "      <td>Associate</td>\n",
       "      <td>No</td>\n",
       "    </tr>\n",
       "    <tr>\n",
       "      <th>3</th>\n",
       "      <td>S00004</td>\n",
       "      <td>17.6</td>\n",
       "      <td>76.8</td>\n",
       "      <td>62.4</td>\n",
       "      <td>Yes</td>\n",
       "      <td>Bachelor</td>\n",
       "      <td>No</td>\n",
       "    </tr>\n",
       "    <tr>\n",
       "      <th>4</th>\n",
       "      <td>S00005</td>\n",
       "      <td>8.8</td>\n",
       "      <td>89.3</td>\n",
       "      <td>72.7</td>\n",
       "      <td>No</td>\n",
       "      <td>Master</td>\n",
       "      <td>No</td>\n",
       "    </tr>\n",
       "  </tbody>\n",
       "</table>\n",
       "</div>"
      ],
      "text/plain": [
       "  Student ID  Study Hours per Week  Attendance Rate  Previous Grades  \\\n",
       "0     S00001                  12.5              NaN             75.0   \n",
       "1     S00002                   9.3             95.3             60.6   \n",
       "2     S00003                  13.2              NaN             64.0   \n",
       "3     S00004                  17.6             76.8             62.4   \n",
       "4     S00005                   8.8             89.3             72.7   \n",
       "\n",
       "  Participation in Extracurricular Activities Parent Education Level Passed  \n",
       "0                                         Yes                 Master    Yes  \n",
       "1                                          No            High School     No  \n",
       "2                                          No              Associate     No  \n",
       "3                                         Yes               Bachelor     No  \n",
       "4                                          No                 Master     No  "
      ]
     },
     "execution_count": 18,
     "metadata": {},
     "output_type": "execute_result"
    }
   ],
   "source": [
    "import pandas as pd\n",
    "\n",
    "df = pd.read_csv(\"../data/raw/student_performance_prediction.csv\")\n",
    "df.head()\n",
    "\n"
   ]
  },
  {
   "cell_type": "code",
   "execution_count": 11,
   "metadata": {},
   "outputs": [
    {
     "data": {
      "text/plain": [
       "np.int64(0)"
      ]
     },
     "execution_count": 11,
     "metadata": {},
     "output_type": "execute_result"
    }
   ],
   "source": [
    "df.duplicated().sum()"
   ]
  },
  {
   "cell_type": "code",
   "execution_count": 12,
   "metadata": {},
   "outputs": [
    {
     "data": {
      "text/plain": [
       "Student ID                                        0\n",
       "Study Hours per Week                           1995\n",
       "Attendance Rate                                1992\n",
       "Previous Grades                                1994\n",
       "Participation in Extracurricular Activities    2000\n",
       "Parent Education Level                         2000\n",
       "Passed                                         2000\n",
       "dtype: int64"
      ]
     },
     "execution_count": 12,
     "metadata": {},
     "output_type": "execute_result"
    }
   ],
   "source": [
    "df.isnull().sum()\n"
   ]
  },
  {
   "cell_type": "code",
   "execution_count": 13,
   "metadata": {},
   "outputs": [
    {
     "data": {
      "text/plain": [
       "np.int64(0)"
      ]
     },
     "execution_count": 13,
     "metadata": {},
     "output_type": "execute_result"
    }
   ],
   "source": [
    "df['Student ID'].duplicated().sum() # checking if Student ID is primary key\n"
   ]
  },
  {
   "cell_type": "code",
   "execution_count": 14,
   "metadata": {},
   "outputs": [
    {
     "name": "stdout",
     "output_type": "stream",
     "text": [
      "Unique Student IDs: 40000, Total Rows: 40000\n"
     ]
    }
   ],
   "source": [
    "# other way to chack if student ID is unique \n",
    "total_students = df['Student ID'].nunique()\n",
    "total_rows = len(df)\n",
    "print(f\"Unique Student IDs: {total_students}, Total Rows: {total_rows}\")\n"
   ]
  },
  {
   "cell_type": "code",
   "execution_count": 19,
   "metadata": {},
   "outputs": [
    {
     "data": {
      "text/html": [
       "<div>\n",
       "<style scoped>\n",
       "    .dataframe tbody tr th:only-of-type {\n",
       "        vertical-align: middle;\n",
       "    }\n",
       "\n",
       "    .dataframe tbody tr th {\n",
       "        vertical-align: top;\n",
       "    }\n",
       "\n",
       "    .dataframe thead th {\n",
       "        text-align: right;\n",
       "    }\n",
       "</style>\n",
       "<table border=\"1\" class=\"dataframe\">\n",
       "  <thead>\n",
       "    <tr style=\"text-align: right;\">\n",
       "      <th></th>\n",
       "      <th>Study Hours per Week</th>\n",
       "      <th>Attendance Rate</th>\n",
       "      <th>Previous Grades</th>\n",
       "      <th>Participation in Extracurricular Activities</th>\n",
       "      <th>Parent Education Level</th>\n",
       "      <th>Passed</th>\n",
       "    </tr>\n",
       "    <tr>\n",
       "      <th>Student ID</th>\n",
       "      <th></th>\n",
       "      <th></th>\n",
       "      <th></th>\n",
       "      <th></th>\n",
       "      <th></th>\n",
       "      <th></th>\n",
       "    </tr>\n",
       "  </thead>\n",
       "  <tbody>\n",
       "    <tr>\n",
       "      <th>S00001</th>\n",
       "      <td>12.5</td>\n",
       "      <td>NaN</td>\n",
       "      <td>75.0</td>\n",
       "      <td>Yes</td>\n",
       "      <td>Master</td>\n",
       "      <td>Yes</td>\n",
       "    </tr>\n",
       "    <tr>\n",
       "      <th>S00002</th>\n",
       "      <td>9.3</td>\n",
       "      <td>95.3</td>\n",
       "      <td>60.6</td>\n",
       "      <td>No</td>\n",
       "      <td>High School</td>\n",
       "      <td>No</td>\n",
       "    </tr>\n",
       "    <tr>\n",
       "      <th>S00003</th>\n",
       "      <td>13.2</td>\n",
       "      <td>NaN</td>\n",
       "      <td>64.0</td>\n",
       "      <td>No</td>\n",
       "      <td>Associate</td>\n",
       "      <td>No</td>\n",
       "    </tr>\n",
       "    <tr>\n",
       "      <th>S00004</th>\n",
       "      <td>17.6</td>\n",
       "      <td>76.8</td>\n",
       "      <td>62.4</td>\n",
       "      <td>Yes</td>\n",
       "      <td>Bachelor</td>\n",
       "      <td>No</td>\n",
       "    </tr>\n",
       "    <tr>\n",
       "      <th>S00005</th>\n",
       "      <td>8.8</td>\n",
       "      <td>89.3</td>\n",
       "      <td>72.7</td>\n",
       "      <td>No</td>\n",
       "      <td>Master</td>\n",
       "      <td>No</td>\n",
       "    </tr>\n",
       "  </tbody>\n",
       "</table>\n",
       "</div>"
      ],
      "text/plain": [
       "            Study Hours per Week  Attendance Rate  Previous Grades  \\\n",
       "Student ID                                                           \n",
       "S00001                      12.5              NaN             75.0   \n",
       "S00002                       9.3             95.3             60.6   \n",
       "S00003                      13.2              NaN             64.0   \n",
       "S00004                      17.6             76.8             62.4   \n",
       "S00005                       8.8             89.3             72.7   \n",
       "\n",
       "           Participation in Extracurricular Activities Parent Education Level  \\\n",
       "Student ID                                                                      \n",
       "S00001                                             Yes                 Master   \n",
       "S00002                                              No            High School   \n",
       "S00003                                              No              Associate   \n",
       "S00004                                             Yes               Bachelor   \n",
       "S00005                                              No                 Master   \n",
       "\n",
       "           Passed  \n",
       "Student ID         \n",
       "S00001        Yes  \n",
       "S00002         No  \n",
       "S00003         No  \n",
       "S00004         No  \n",
       "S00005         No  "
      ]
     },
     "execution_count": 19,
     "metadata": {},
     "output_type": "execute_result"
    }
   ],
   "source": [
    "# Because Student ID is unique, I made it index column\n",
    "df.set_index('Student ID', inplace=True)\n",
    "df.head()\n"
   ]
  },
  {
   "cell_type": "code",
   "execution_count": 24,
   "metadata": {},
   "outputs": [
    {
     "data": {
      "image/png": "[encoded data removed]",
      "text/plain": [
       "<Figure size 640x480 with 1 Axes>"
      ]
     },
     "metadata": {},
     "output_type": "display_data"
    }
   ],
   "source": [
    "# to find out if there is any outliner. because which one should be used mean or median ?\n",
    "import matplotlib.pyplot as plt\n",
    "# Create a boxplot for 'Study Hours per Week'\n",
    "plt.boxplot(df['Study Hours per Week'].dropna())\n",
    "plt.title('Boxplot of Study Hours per Week')\n",
    "plt.show()\n",
    "\n"
   ]
  },
  {
   "cell_type": "code",
   "execution_count": 23,
   "metadata": {},
   "outputs": [
    {
     "name": "stdout",
     "output_type": "stream",
     "text": [
      "Number of outliers in 'Study Hours per Week' using IQR: 251\n"
     ]
    },
    {
     "data": {
      "text/html": [
       "<div>\n",
       "<style scoped>\n",
       "    .dataframe tbody tr th:only-of-type {\n",
       "        vertical-align: middle;\n",
       "    }\n",
       "\n",
       "    .dataframe tbody tr th {\n",
       "        vertical-align: top;\n",
       "    }\n",
       "\n",
       "    .dataframe thead th {\n",
       "        text-align: right;\n",
       "    }\n",
       "</style>\n",
       "<table border=\"1\" class=\"dataframe\">\n",
       "  <thead>\n",
       "    <tr style=\"text-align: right;\">\n",
       "      <th></th>\n",
       "      <th>Study Hours per Week</th>\n",
       "      <th>Attendance Rate</th>\n",
       "      <th>Previous Grades</th>\n",
       "      <th>Participation in Extracurricular Activities</th>\n",
       "      <th>Parent Education Level</th>\n",
       "      <th>Passed</th>\n",
       "    </tr>\n",
       "    <tr>\n",
       "      <th>Student ID</th>\n",
       "      <th></th>\n",
       "      <th></th>\n",
       "      <th></th>\n",
       "      <th></th>\n",
       "      <th></th>\n",
       "      <th></th>\n",
       "    </tr>\n",
       "  </thead>\n",
       "  <tbody>\n",
       "    <tr>\n",
       "      <th>S00210</th>\n",
       "      <td>29.3</td>\n",
       "      <td>NaN</td>\n",
       "      <td>55.1</td>\n",
       "      <td>Yes</td>\n",
       "      <td>Bachelor</td>\n",
       "      <td>Yes</td>\n",
       "    </tr>\n",
       "    <tr>\n",
       "      <th>S00263</th>\n",
       "      <td>-6.2</td>\n",
       "      <td>98.7</td>\n",
       "      <td>26.2</td>\n",
       "      <td>Yes</td>\n",
       "      <td>High School</td>\n",
       "      <td>Yes</td>\n",
       "    </tr>\n",
       "    <tr>\n",
       "      <th>S00479</th>\n",
       "      <td>25.4</td>\n",
       "      <td>84.5</td>\n",
       "      <td>53.0</td>\n",
       "      <td>No</td>\n",
       "      <td>High School</td>\n",
       "      <td>Yes</td>\n",
       "    </tr>\n",
       "    <tr>\n",
       "      <th>S01062</th>\n",
       "      <td>-4.2</td>\n",
       "      <td>70.8</td>\n",
       "      <td>46.3</td>\n",
       "      <td>No</td>\n",
       "      <td>Master</td>\n",
       "      <td>No</td>\n",
       "    </tr>\n",
       "    <tr>\n",
       "      <th>S01540</th>\n",
       "      <td>-4.4</td>\n",
       "      <td>77.7</td>\n",
       "      <td>54.0</td>\n",
       "      <td>No</td>\n",
       "      <td>Bachelor</td>\n",
       "      <td>No</td>\n",
       "    </tr>\n",
       "    <tr>\n",
       "      <th>...</th>\n",
       "      <td>...</td>\n",
       "      <td>...</td>\n",
       "      <td>...</td>\n",
       "      <td>...</td>\n",
       "      <td>...</td>\n",
       "      <td>...</td>\n",
       "    </tr>\n",
       "    <tr>\n",
       "      <th>S39500</th>\n",
       "      <td>-4.2</td>\n",
       "      <td>57.0</td>\n",
       "      <td>33.3</td>\n",
       "      <td>NaN</td>\n",
       "      <td>Master</td>\n",
       "      <td>No</td>\n",
       "    </tr>\n",
       "    <tr>\n",
       "      <th>S39528</th>\n",
       "      <td>-4.5</td>\n",
       "      <td>66.9</td>\n",
       "      <td>73.7</td>\n",
       "      <td>No</td>\n",
       "      <td>High School</td>\n",
       "      <td>No</td>\n",
       "    </tr>\n",
       "    <tr>\n",
       "      <th>S39576</th>\n",
       "      <td>24.3</td>\n",
       "      <td>61.8</td>\n",
       "      <td>48.0</td>\n",
       "      <td>No</td>\n",
       "      <td>Associate</td>\n",
       "      <td>No</td>\n",
       "    </tr>\n",
       "    <tr>\n",
       "      <th>S39617</th>\n",
       "      <td>-7.2</td>\n",
       "      <td>97.8</td>\n",
       "      <td>46.3</td>\n",
       "      <td>Yes</td>\n",
       "      <td>High School</td>\n",
       "      <td>No</td>\n",
       "    </tr>\n",
       "    <tr>\n",
       "      <th>S39839</th>\n",
       "      <td>26.5</td>\n",
       "      <td>NaN</td>\n",
       "      <td>69.3</td>\n",
       "      <td>Yes</td>\n",
       "      <td>Associate</td>\n",
       "      <td>Yes</td>\n",
       "    </tr>\n",
       "  </tbody>\n",
       "</table>\n",
       "<p>251 rows × 6 columns</p>\n",
       "</div>"
      ],
      "text/plain": [
       "            Study Hours per Week  Attendance Rate  Previous Grades  \\\n",
       "Student ID                                                           \n",
       "S00210                      29.3              NaN             55.1   \n",
       "S00263                      -6.2             98.7             26.2   \n",
       "S00479                      25.4             84.5             53.0   \n",
       "S01062                      -4.2             70.8             46.3   \n",
       "S01540                      -4.4             77.7             54.0   \n",
       "...                          ...              ...              ...   \n",
       "S39500                      -4.2             57.0             33.3   \n",
       "S39528                      -4.5             66.9             73.7   \n",
       "S39576                      24.3             61.8             48.0   \n",
       "S39617                      -7.2             97.8             46.3   \n",
       "S39839                      26.5              NaN             69.3   \n",
       "\n",
       "           Participation in Extracurricular Activities Parent Education Level  \\\n",
       "Student ID                                                                      \n",
       "S00210                                             Yes               Bachelor   \n",
       "S00263                                             Yes            High School   \n",
       "S00479                                              No            High School   \n",
       "S01062                                              No                 Master   \n",
       "S01540                                              No               Bachelor   \n",
       "...                                                ...                    ...   \n",
       "S39500                                             NaN                 Master   \n",
       "S39528                                              No            High School   \n",
       "S39576                                              No              Associate   \n",
       "S39617                                             Yes            High School   \n",
       "S39839                                             Yes              Associate   \n",
       "\n",
       "           Passed  \n",
       "Student ID         \n",
       "S00210        Yes  \n",
       "S00263        Yes  \n",
       "S00479        Yes  \n",
       "S01062         No  \n",
       "S01540         No  \n",
       "...           ...  \n",
       "S39500         No  \n",
       "S39528         No  \n",
       "S39576         No  \n",
       "S39617         No  \n",
       "S39839        Yes  \n",
       "\n",
       "[251 rows x 6 columns]"
      ]
     },
     "metadata": {},
     "output_type": "display_data"
    }
   ],
   "source": [
    "Q1 = df['Study Hours per Week'].quantile(0.25)  # First quartile (25%)\n",
    "Q3 = df['Study Hours per Week'].quantile(0.75)  # Third quartile (75%)\n",
    "IQR = Q3 - Q1  # Interquartile Range\n",
    "\n",
    "# Calculate the bounds for detecting outliers\n",
    "lower_bound = Q1 - 1.5 * IQR\n",
    "upper_bound = Q3 + 1.5 * IQR\n",
    "\n",
    "# Find the outliers\n",
    "outliers_iqr = df[(df['Study Hours per Week'] < lower_bound) | \n",
    "                  (df['Study Hours per Week'] > upper_bound)]\n",
    "print(\"Number of outliers in 'Study Hours per Week' using IQR:\", len(outliers_iqr))\n",
    "display(outliers_iqr)\n"
   ]
  },
  {
   "cell_type": "code",
   "execution_count": null,
   "metadata": {},
   "outputs": [],
   "source": [
    "# Step 1: Calculate the mean without the outliers\n",
    "Q1 = df['Study Hours per Week'].quantile(0.25)\n",
    "Q3 = df['Study Hours per Week'].quantile(0.75)\n",
    "IQR = Q3 - Q1\n",
    "\n",
    "# Define the upper and lower bounds for non-outliers\n",
    "lower_bound = Q1 - 1.5 * IQR\n",
    "upper_bound = Q3 + 1.5 * IQR\n",
    "\n",
    "# Calculate the filtered mean without the outliers\n",
    "filtered_mean = df[(df['Study Hours per Week'] >= lower_bound) & \n",
    "                   (df['Study Hours per Week'] <= upper_bound)]['Study Hours per Week'].mean()\n",
    "\n",
    "print(f\"Filtered Mean (excluding outliers): {filtered_mean:.2f}\")\n",
    "\n",
    "# Step 2: Impute NaN values in 'Study Hours per Week' with the filtered mean\n",
    "df['Study Hours per Week'].fillna(filtered_mean, inplace=True)\n",
    "\n",
    "# Step 3: Review the changes\n",
    "print(\"Updated 'Study Hours per Week' column after imputation:\")\n",
    "print(df['Study Hours per Week'].head(10))\n"
   ]
  }
 ],
 "metadata": {
  "kernelspec": {
   "display_name": "SPP_env",
   "language": "python",
   "name": "python3"
  },
  "language_info": {
   "codemirror_mode": {
    "name": "ipython",
    "version": 3
   },
   "file_extension": ".py",
   "mimetype": "text/x-python",
   "name": "python",
   "nbconvert_exporter": "python",
   "pygments_lexer": "ipython3",
   "version": "3.10.12"
  }
 },
 "nbformat": 4,
 "nbformat_minor": 2
}
